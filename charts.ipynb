{
 "cells": [
  {
   "cell_type": "code",
   "execution_count": 1,
   "id": "6135e673",
   "metadata": {},
   "outputs": [],
   "source": [
    "import pandas as pd"
   ]
  },
  {
   "attachments": {
    "image.png": {
     "image/png": "[encoded data removed]"
    }
   },
   "cell_type": "markdown",
   "id": "97a13f2f",
   "metadata": {},
   "source": [
    "![image.png](attachment:image.png)"
   ]
  },
  {
   "cell_type": "code",
   "execution_count": null,
   "id": "93ed020c",
   "metadata": {},
   "outputs": [],
   "source": [
    "Allegro: 37.52, 'free float': 62.48\n",
    "XTB:    49.99, 'free float': 64.22\n",
    "CD Projekt , 'free float': 59.42\n",
    "InPost: 'free float': 47.77\n",
    "Żabka Group, 'free float': 46.53\n",
    "Mentzen 'free float': 34.93\n",
    "CCC 'free float': 46.49\n",
    "11bit Studios, 'free float': 47.01\n"
   ]
  },
  {
   "cell_type": "code",
   "execution_count": 2,
   "id": "0a30a2ed",
   "metadata": {},
   "outputs": [],
   "source": [
    "all_data = pd.read_csv(r'TrainingData\\FINAL_TWEET_DATA.csv')"
   ]
  },
  {
   "cell_type": "code",
   "execution_count": 4,
   "id": "9161a1b0",
   "metadata": {},
   "outputs": [
    {
     "data": {
      "application/vnd.microsoft.datawrangler.viewer.v0+json": {
       "columns": [
        {
         "name": "index",
         "rawType": "int64",
         "type": "integer"
        },
        {
         "name": "Unnamed: 0",
         "rawType": "int64",
         "type": "integer"
        },
        {
         "name": "id",
         "rawType": "int64",
         "type": "integer"
        },
        {
         "name": "created_at",
         "rawType": "object",
         "type": "string"
        },
        {
         "name": "user_name",
         "rawType": "object",
         "type": "string"
        },
        {
         "name": "user_id",
         "rawType": "int64",
         "type": "integer"
        },
        {
         "name": "text",
         "rawType": "object",
         "type": "string"
        },
        {
         "name": "lang",
         "rawType": "object",
         "type": "string"
        },
        {
         "name": "in_reply_to",
         "rawType": "float64",
         "type": "float"
        },
        {
         "name": "is_quote_status",
         "rawType": "int64",
         "type": "integer"
        },
        {
         "name": "quote_id",
         "rawType": "float64",
         "type": "float"
        },
        {
         "name": "retweeted_tweet_id",
         "rawType": "float64",
         "type": "float"
        },
        {
         "name": "possibly_sensitive",
         "rawType": "float64",
         "type": "float"
        },
        {
         "name": "quote_count",
         "rawType": "int64",
         "type": "integer"
        },
        {
         "name": "reply_count",
         "rawType": "int64",
         "type": "integer"
        },
        {
         "name": "favorite_count",
         "rawType": "int64",
         "type": "integer"
        },
        {
         "name": "retweet_count",
         "rawType": "int64",
         "type": "integer"
        },
        {
         "name": "view_count",
         "rawType": "float64",
         "type": "float"
        },
        {
         "name": "hashtags",
         "rawType": "object",
         "type": "unknown"
        },
        {
         "name": "urls",
         "rawType": "object",
         "type": "unknown"
        },
        {
         "name": "is_translatable",
         "rawType": "float64",
         "type": "float"
        },
        {
         "name": "has_card",
         "rawType": "int64",
         "type": "integer"
        },
        {
         "name": "thumbnail_title",
         "rawType": "object",
         "type": "unknown"
        },
        {
         "name": "thumbnail_url",
         "rawType": "object",
         "type": "unknown"
        },
        {
         "name": "company",
         "rawType": "object",
         "type": "string"
        },
        {
         "name": "timestamp",
         "rawType": "object",
         "type": "string"
        },
        {
         "name": "agent",
         "rawType": "object",
         "type": "unknown"
        },
        {
         "name": "stock_company",
         "rawType": "object",
         "type": "string"
        }
       ],
       "ref": "890d00a6-abf7-4dc0-b0b6-98444dc1b1a6",
       "rows": [
        [
         "0",
         "0",
         "1666209965004972056",
         "2023-06-07 00:26:26+02:00",
         "Papużka 🦜",
         "1652543071",
         "Siedziałam dziś 3 godziny i wystawiałam rzeczy na allegro lokalnie  ale chyba nie idzie mi tragicznie, do tej pory zarobiłam już 3k, jak sprzeda się reszta to będzie drugie tyle, trzymajcie kciuki plz https://t.co/0DQd5Xly2I",
         "pl",
         null,
         "0",
         null,
         null,
         "0.0",
         "0",
         "0",
         "12",
         "0",
         "717.0",
         null,
         null,
         "1.0",
         "0",
         null,
         null,
         "allegro",
         "2024-10-03 13:52:02.510674",
         null,
         "ALLEGRO"
        ],
        [
         "1",
         "1",
         "1666206873727426565",
         "2023-06-07 00:14:09+02:00",
         "Filip Kotowicz",
         "1091824339488518146",
         "@Matijuv333 @AmiciSportivi Z Allegro na ławce i z tego powodu możliwością straty kilku kluczowych zawodników może nie być wesoło. Zobaczymy.",
         "pl",
         "1.6662052574439916e+18",
         "0",
         null,
         null,
         null,
         "0",
         "1",
         "1",
         "0",
         "23.0",
         null,
         null,
         "1.0",
         "0",
         null,
         null,
         "allegro",
         "2024-10-03 13:52:02.515832",
         null,
         "ALLEGRO"
        ],
        [
         "2",
         "2",
         "1666203399002415109",
         "2023-06-07 00:00:21+02:00",
         "Janusz Cebula",
         "3537862120",
         "#AmazonPL | Polaroid Okulary Przeciwsłoneczne\r\nhttps://t.co/IUknhN3fJD\r\n💰 108,99 zł\r\n\r\n#JanuszCebula #TanioNaAli #Amazon #Reklama #AmazonPrime w Polsce https://t.co/BeEpAQyfjh\r\n\r\nSprawdź ceny na #Ceneo https://t.co/iPoD10SQY0\r\nSprawdź ceny na #Allegro https://t.co/IzoyW7FaqI https://t.co/l7VQx9psFr",
         "pl",
         null,
         "0",
         null,
         null,
         "0.0",
         "0",
         "0",
         "0",
         "0",
         "14.0",
         "AmazonPL,JanuszCebula,TanioNaAli,Amazon,Reklama,AmazonPrime,Ceneo,Allegro",
         "https://buff.ly/42pttXd,https://x.com/PL_JanuszCebula/status/1666203399002415109/photo/1,https://buff.ly/3NcXC82,https://buff.ly/45LCvAX,https://buff.ly/3oOR8CR",
         "1.0",
         "0",
         null,
         null,
         "allegro",
         "2024-10-03 13:52:02.529841",
         null,
         "ALLEGRO"
        ],
        [
         "3",
         "3",
         "1666201791548063744",
         "2023-06-06 23:53:58+02:00",
         "𝓥𝓲𝓬 ✧ | 𝐒𝐀𝐖 𝐏𝐈𝐗𝐘, 𝐎𝐍𝐄𝐔𝐒 |",
         "1641803573078925316",
         "@Malcik34 Tez sobie chcialam zamówić lomo kidsow z allegro ale właśnie wtedy mnie dopadły myśli że przypał bo nieoficjalne, ale z drugiej strony przecież nie ma w tym nic złego bo one i tak są piękne",
         "pl",
         "1.666200209964032e+18",
         "0",
         null,
         null,
         null,
         "0",
         "1",
         "1",
         "0",
         "11.0",
         null,
         null,
         "1.0",
         "0",
         null,
         null,
         "allegro",
         "2024-10-03 13:52:02.546518",
         null,
         "ALLEGRO"
        ],
        [
         "4",
         "4",
         "1666188368852447233",
         "2023-06-06 23:00:38+02:00",
         "Janusz Cebula",
         "3537862120",
         "#Allegro | Xiaomi Redmi 10 5g 4/64GB srebrny\r\nhttps://t.co/UoGAQsh89O\r\n💰 530,75 zł\r\n\r\n#JanuszCebula #TanioNaAli #AllegroPay https://t.co/gela4ugixS Aplikacja Allegro https://t.co/V8Np0yYOVR\r\n\r\nSprawdź ceny\r\nna #Ceneo https://t.co/l7QyW3kI8V\r\nna #Allegro https://t.co/nOhe89LlBI https://t.co/IehHofztT8",
         "pl",
         null,
         "0",
         null,
         null,
         "0.0",
         "0",
         "0",
         "0",
         "0",
         "14.0",
         "Allegro,JanuszCebula,TanioNaAli,AllegroPay,Ceneo,Allegro",
         "https://buff.ly/43LaYxO,https://buff.ly/43EXNPn,https://x.com/PL_JanuszCebula/status/1666188368852447233/photo/1,https://buff.ly/42puHBY,https://buff.ly/43KLn81,https://buff.ly/42roB3S",
         "1.0",
         "0",
         null,
         null,
         "allegro",
         "2024-10-03 13:52:02.546518",
         null,
         "ALLEGRO"
        ]
       ],
       "shape": {
        "columns": 27,
        "rows": 5
       }
      },
      "text/html": [
       "<div>\n",
       "<style scoped>\n",
       "    .dataframe tbody tr th:only-of-type {\n",
       "        vertical-align: middle;\n",
       "    }\n",
       "\n",
       "    .dataframe tbody tr th {\n",
       "        vertical-align: top;\n",
       "    }\n",
       "\n",
       "    .dataframe thead th {\n",
       "        text-align: right;\n",
       "    }\n",
       "</style>\n",
       "<table border=\"1\" class=\"dataframe\">\n",
       "  <thead>\n",
       "    <tr style=\"text-align: right;\">\n",
       "      <th></th>\n",
       "      <th>Unnamed: 0</th>\n",
       "      <th>id</th>\n",
       "      <th>created_at</th>\n",
       "      <th>user_name</th>\n",
       "      <th>user_id</th>\n",
       "      <th>text</th>\n",
       "      <th>lang</th>\n",
       "      <th>in_reply_to</th>\n",
       "      <th>is_quote_status</th>\n",
       "      <th>quote_id</th>\n",
       "      <th>...</th>\n",
       "      <th>hashtags</th>\n",
       "      <th>urls</th>\n",
       "      <th>is_translatable</th>\n",
       "      <th>has_card</th>\n",
       "      <th>thumbnail_title</th>\n",
       "      <th>thumbnail_url</th>\n",
       "      <th>company</th>\n",
       "      <th>timestamp</th>\n",
       "      <th>agent</th>\n",
       "      <th>stock_company</th>\n",
       "    </tr>\n",
       "  </thead>\n",
       "  <tbody>\n",
       "    <tr>\n",
       "      <th>0</th>\n",
       "      <td>0</td>\n",
       "      <td>1666209965004972056</td>\n",
       "      <td>2023-06-07 00:26:26+02:00</td>\n",
       "      <td>Papużka 🦜</td>\n",
       "      <td>1652543071</td>\n",
       "      <td>Siedziałam dziś 3 godziny i wystawiałam rzeczy...</td>\n",
       "      <td>pl</td>\n",
       "      <td>NaN</td>\n",
       "      <td>0</td>\n",
       "      <td>NaN</td>\n",
       "      <td>...</td>\n",
       "      <td>NaN</td>\n",
       "      <td>NaN</td>\n",
       "      <td>1.0</td>\n",
       "      <td>0</td>\n",
       "      <td>NaN</td>\n",
       "      <td>NaN</td>\n",
       "      <td>allegro</td>\n",
       "      <td>2024-10-03 13:52:02.510674</td>\n",
       "      <td>NaN</td>\n",
       "      <td>ALLEGRO</td>\n",
       "    </tr>\n",
       "    <tr>\n",
       "      <th>1</th>\n",
       "      <td>1</td>\n",
       "      <td>1666206873727426565</td>\n",
       "      <td>2023-06-07 00:14:09+02:00</td>\n",
       "      <td>Filip Kotowicz</td>\n",
       "      <td>1091824339488518146</td>\n",
       "      <td>@Matijuv333 @AmiciSportivi Z Allegro na ławce ...</td>\n",
       "      <td>pl</td>\n",
       "      <td>1.666205e+18</td>\n",
       "      <td>0</td>\n",
       "      <td>NaN</td>\n",
       "      <td>...</td>\n",
       "      <td>NaN</td>\n",
       "      <td>NaN</td>\n",
       "      <td>1.0</td>\n",
       "      <td>0</td>\n",
       "      <td>NaN</td>\n",
       "      <td>NaN</td>\n",
       "      <td>allegro</td>\n",
       "      <td>2024-10-03 13:52:02.515832</td>\n",
       "      <td>NaN</td>\n",
       "      <td>ALLEGRO</td>\n",
       "    </tr>\n",
       "    <tr>\n",
       "      <th>2</th>\n",
       "      <td>2</td>\n",
       "      <td>1666203399002415109</td>\n",
       "      <td>2023-06-07 00:00:21+02:00</td>\n",
       "      <td>Janusz Cebula</td>\n",
       "      <td>3537862120</td>\n",
       "      <td>#AmazonPL | Polaroid Okulary Przeciwsłoneczne\\...</td>\n",
       "      <td>pl</td>\n",
       "      <td>NaN</td>\n",
       "      <td>0</td>\n",
       "      <td>NaN</td>\n",
       "      <td>...</td>\n",
       "      <td>AmazonPL,JanuszCebula,TanioNaAli,Amazon,Reklam...</td>\n",
       "      <td>https://buff.ly/42pttXd,https://x.com/PL_Janus...</td>\n",
       "      <td>1.0</td>\n",
       "      <td>0</td>\n",
       "      <td>NaN</td>\n",
       "      <td>NaN</td>\n",
       "      <td>allegro</td>\n",
       "      <td>2024-10-03 13:52:02.529841</td>\n",
       "      <td>NaN</td>\n",
       "      <td>ALLEGRO</td>\n",
       "    </tr>\n",
       "    <tr>\n",
       "      <th>3</th>\n",
       "      <td>3</td>\n",
       "      <td>1666201791548063744</td>\n",
       "      <td>2023-06-06 23:53:58+02:00</td>\n",
       "      <td>𝓥𝓲𝓬 ✧ | 𝐒𝐀𝐖 𝐏𝐈𝐗𝐘, 𝐎𝐍𝐄𝐔𝐒 |</td>\n",
       "      <td>1641803573078925316</td>\n",
       "      <td>@Malcik34 Tez sobie chcialam zamówić lomo kids...</td>\n",
       "      <td>pl</td>\n",
       "      <td>1.666200e+18</td>\n",
       "      <td>0</td>\n",
       "      <td>NaN</td>\n",
       "      <td>...</td>\n",
       "      <td>NaN</td>\n",
       "      <td>NaN</td>\n",
       "      <td>1.0</td>\n",
       "      <td>0</td>\n",
       "      <td>NaN</td>\n",
       "      <td>NaN</td>\n",
       "      <td>allegro</td>\n",
       "      <td>2024-10-03 13:52:02.546518</td>\n",
       "      <td>NaN</td>\n",
       "      <td>ALLEGRO</td>\n",
       "    </tr>\n",
       "    <tr>\n",
       "      <th>4</th>\n",
       "      <td>4</td>\n",
       "      <td>1666188368852447233</td>\n",
       "      <td>2023-06-06 23:00:38+02:00</td>\n",
       "      <td>Janusz Cebula</td>\n",
       "      <td>3537862120</td>\n",
       "      <td>#Allegro | Xiaomi Redmi 10 5g 4/64GB srebrny\\r...</td>\n",
       "      <td>pl</td>\n",
       "      <td>NaN</td>\n",
       "      <td>0</td>\n",
       "      <td>NaN</td>\n",
       "      <td>...</td>\n",
       "      <td>Allegro,JanuszCebula,TanioNaAli,AllegroPay,Cen...</td>\n",
       "      <td>https://buff.ly/43LaYxO,https://buff.ly/43EXNP...</td>\n",
       "      <td>1.0</td>\n",
       "      <td>0</td>\n",
       "      <td>NaN</td>\n",
       "      <td>NaN</td>\n",
       "      <td>allegro</td>\n",
       "      <td>2024-10-03 13:52:02.546518</td>\n",
       "      <td>NaN</td>\n",
       "      <td>ALLEGRO</td>\n",
       "    </tr>\n",
       "  </tbody>\n",
       "</table>\n",
       "<p>5 rows × 27 columns</p>\n",
       "</div>"
      ],
      "text/plain": [
       "   Unnamed: 0                   id                 created_at  \\\n",
       "0           0  1666209965004972056  2023-06-07 00:26:26+02:00   \n",
       "1           1  1666206873727426565  2023-06-07 00:14:09+02:00   \n",
       "2           2  1666203399002415109  2023-06-07 00:00:21+02:00   \n",
       "3           3  1666201791548063744  2023-06-06 23:53:58+02:00   \n",
       "4           4  1666188368852447233  2023-06-06 23:00:38+02:00   \n",
       "\n",
       "                   user_name              user_id  \\\n",
       "0                  Papużka 🦜           1652543071   \n",
       "1             Filip Kotowicz  1091824339488518146   \n",
       "2              Janusz Cebula           3537862120   \n",
       "3  𝓥𝓲𝓬 ✧ | 𝐒𝐀𝐖 𝐏𝐈𝐗𝐘, 𝐎𝐍𝐄𝐔𝐒 |  1641803573078925316   \n",
       "4              Janusz Cebula           3537862120   \n",
       "\n",
       "                                                text lang   in_reply_to  \\\n",
       "0  Siedziałam dziś 3 godziny i wystawiałam rzeczy...   pl           NaN   \n",
       "1  @Matijuv333 @AmiciSportivi Z Allegro na ławce ...   pl  1.666205e+18   \n",
       "2  #AmazonPL | Polaroid Okulary Przeciwsłoneczne\\...   pl           NaN   \n",
       "3  @Malcik34 Tez sobie chcialam zamówić lomo kids...   pl  1.666200e+18   \n",
       "4  #Allegro | Xiaomi Redmi 10 5g 4/64GB srebrny\\r...   pl           NaN   \n",
       "\n",
       "   is_quote_status  quote_id  ...  \\\n",
       "0                0       NaN  ...   \n",
       "1                0       NaN  ...   \n",
       "2                0       NaN  ...   \n",
       "3                0       NaN  ...   \n",
       "4                0       NaN  ...   \n",
       "\n",
       "                                            hashtags  \\\n",
       "0                                                NaN   \n",
       "1                                                NaN   \n",
       "2  AmazonPL,JanuszCebula,TanioNaAli,Amazon,Reklam...   \n",
       "3                                                NaN   \n",
       "4  Allegro,JanuszCebula,TanioNaAli,AllegroPay,Cen...   \n",
       "\n",
       "                                                urls  is_translatable  \\\n",
       "0                                                NaN              1.0   \n",
       "1                                                NaN              1.0   \n",
       "2  https://buff.ly/42pttXd,https://x.com/PL_Janus...              1.0   \n",
       "3                                                NaN              1.0   \n",
       "4  https://buff.ly/43LaYxO,https://buff.ly/43EXNP...              1.0   \n",
       "\n",
       "   has_card  thumbnail_title  thumbnail_url  company  \\\n",
       "0         0              NaN            NaN  allegro   \n",
       "1         0              NaN            NaN  allegro   \n",
       "2         0              NaN            NaN  allegro   \n",
       "3         0              NaN            NaN  allegro   \n",
       "4         0              NaN            NaN  allegro   \n",
       "\n",
       "                    timestamp agent  stock_company  \n",
       "0  2024-10-03 13:52:02.510674   NaN        ALLEGRO  \n",
       "1  2024-10-03 13:52:02.515832   NaN        ALLEGRO  \n",
       "2  2024-10-03 13:52:02.529841   NaN        ALLEGRO  \n",
       "3  2024-10-03 13:52:02.546518   NaN        ALLEGRO  \n",
       "4  2024-10-03 13:52:02.546518   NaN        ALLEGRO  \n",
       "\n",
       "[5 rows x 27 columns]"
      ]
     },
     "execution_count": 4,
     "metadata": {},
     "output_type": "execute_result"
    }
   ],
   "source": [
    "all_data.head()"
   ]
  },
  {
   "cell_type": "code",
   "execution_count": 8,
   "id": "0b980149",
   "metadata": {},
   "outputs": [
    {
     "data": {
      "text/plain": [
       "['ALLEGRO', 'INPOST', 'XTB', 'CDR', 'ZABKA', 'MENTZEN', 'CCC', '11BIT']"
      ]
     },
     "execution_count": 8,
     "metadata": {},
     "output_type": "execute_result"
    }
   ],
   "source": [
    "list(all_data['stock_company'].unique())"
   ]
  },
  {
   "cell_type": "code",
   "execution_count": 10,
   "id": "2676d603",
   "metadata": {},
   "outputs": [
    {
     "data": {
      "image/png": "[encoded data removed]",
      "text/plain": [
       "<Figure size 1000x600 with 1 Axes>"
      ]
     },
     "metadata": {},
     "output_type": "display_data"
    }
   ],
   "source": [
    "import matplotlib.pyplot as plt\n",
    "\n",
    "data = [\n",
    "    {\"company\": \"Allegro\", \"free_float\": 62.48},\n",
    "    {\"company\": \"XTB\", \"free_float\": 64.22},\n",
    "    {\"company\": \"CD Projekt\", \"free_float\": 59.42},\n",
    "    {\"company\": \"InPost\", \"free_float\": 47.77},\n",
    "    {\"company\": \"Żabka Group\", \"free_float\": 46.53},\n",
    "    {\"company\": \"Mentzen\", \"free_float\": 34.93},\n",
    "    {\"company\": \"CCC\", \"free_float\": 46.49},\n",
    "    {\"company\": \"11bit Studios\", \"free_float\": 47.01},\n",
    "]\n",
    "\n",
    "# Extract for plotting\n",
    "companies = [entry[\"company\"] for entry in data]\n",
    "free_floats = [entry[\"free_float\"] for entry in data]\n",
    "\n",
    "# Plotting\n",
    "plt.figure(figsize=(10, 6))\n",
    "bars = plt.bar(companies, free_floats, color='skyblue')\n",
    "plt.ylabel('Free Float (%)')\n",
    "plt.title('Free Float by Company')\n",
    "plt.xticks(rotation=45, ha='right')\n",
    "plt.ylim(0, 100)\n",
    "\n",
    "# Add value labels\n",
    "for bar in bars:\n",
    "    yval = bar.get_height()\n",
    "    plt.text(bar.get_x() + bar.get_width()/2, yval + 1, f'{yval:.1f}%', ha='center', va='bottom')\n",
    "\n",
    "plt.tight_layout()\n",
    "plt.show()\n"
   ]
  },
  {
   "cell_type": "code",
   "execution_count": 9,
   "id": "6cd35c2b",
   "metadata": {},
   "outputs": [],
   "source": [
    "#STOCK DATA PROCESSING\n",
    "companies_stock_data = {}\n",
    "companies =  list(all_data['stock_company'].unique())\n",
    "\n",
    "for company in companies:\n",
    "    df = pd.read_csv(f'Stock_data/{company}.csv')\n",
    "    df['Data'] = pd.to_datetime(df['Data'])\n",
    "    df.sort_values(by = 'Data')\n",
    "\n",
    "    # Calculate returns and other metrics\n",
    "    df['Return'] = df['Zamkniecie'].pct_change()\n",
    "    df['Same_day_return'] = (df['Zamkniecie'] - df['Otwarcie'])/ df['Otwarcie']\n",
    "    df['Overnight_return'] = (df['Zamkniecie'] - df['Otwarcie'].shift(1))/ df['Zamkniecie']\n",
    "    df['Change'] = df['Zamkniecie'] - df['Zamkniecie'].shift(1)\n",
    "\n",
    "    df['Direction'] = df['Return'].apply(lambda x: 1 if x >0 else -1 )\n",
    "    \n",
    "\n",
    "    df['volatility'] = (\n",
    "    (df['Najwyzszy'] - df['Najnizszy']) / df['Otwarcie']\n",
    "    ).where(df['Otwarcie'] != 0, 0)\n",
    "\n",
    "    \n",
    "    # Create a complete date range from the minimum to maximum date in the dataset\n",
    "    date_range = pd.date_range(start=df['Data'].min(), \n",
    "                          end=df['Data'].max(), \n",
    "                          freq='D')  \n",
    "    \n",
    "    # Reindex with complete date range\n",
    "    df = df.set_index('Data').reindex(date_range).reset_index()\n",
    "    df = df.rename(columns={'index': 'Date'})\n",
    "    df['Date'] = pd.to_datetime(df['Date'], errors='raise')\n",
    "    df['weekday'] = df['Date'].dt.day_name()\n",
    "    df['company'] = company\n",
    "    df['is_trading_day'] = df['Zamkniecie'].notna()\n",
    "    companies_stock_data[company] = df\n",
    "\n"
   ]
  }
 ],
 "metadata": {
  "kernelspec": {
   "display_name": ".venv",
   "language": "python",
   "name": "python3"
  },
  "language_info": {
   "codemirror_mode": {
    "name": "ipython",
    "version": 3
   },
   "file_extension": ".py",
   "mimetype": "text/x-python",
   "name": "python",
   "nbconvert_exporter": "python",
   "pygments_lexer": "ipython3",
   "version": "3.11.9"
  }
 },
 "nbformat": 4,
 "nbformat_minor": 5
}
