{
 "cells": [
  {
   "cell_type": "code",
   "execution_count": 4,
   "metadata": {},
   "outputs": [],
   "source": [
    "#!python -m spacy download pl_core_news_lg\n",
    "import pandas as pd\n",
    "import numpy as np\n",
    "import language_tool_python\n",
    "import os\n",
    "from datetime import datetime\n",
    "import re\n",
    "import tqdm\n",
    "import random\n",
    "from functions import *\n",
    "from evaluation_functions import *\n",
    "import pandas as pd\n",
    "import itertools\n",
    "from itertools import product\n",
    "tool = language_tool_python.LanguageTool('pl')\n",
    "import seaborn as sns\n",
    "import matplotlib.pyplot as plt"
   ]
  },
  {
   "cell_type": "markdown",
   "metadata": {},
   "source": [
    "## Introduction"
   ]
  },
  {
   "cell_type": "markdown",
   "metadata": {},
   "source": [
    "\n",
    "* The following code aims at using pretrained polish BERT models for tweet classifications. \n",
    "* Dataset has been labeled to classify all netrual/not relevant tweets as neutral.\n",
    "* This allows for filtering out noise - tweets that aren't aimed at specific company.\n",
    "* Models used were chose based on the KLEJ bechmark t(https://klejbenchmark.com/leaderboard/)."
   ]
  },
  {
   "cell_type": "markdown",
   "metadata": {},
   "source": [
    "### Preparing training dataset"
   ]
  },
  {
   "cell_type": "code",
   "execution_count": 5,
   "metadata": {},
   "outputs": [],
   "source": [
    "all_columns = pd.read_csv(r'TrainingData\\dataset_labeled.csv', nrows=0).columns.tolist()\n",
    "\n",
    "columns_to_exclude = ['Unnamed: 0','Unnamed: 0.1' , 'Unnamed: 0.2']  # example columns to skip\n",
    "wanted_columns = [col for col in all_columns if col not in columns_to_exclude]\n",
    "\n",
    "dataset_labeled = pd.read_csv(r'TrainingData\\dataset_labeled.csv', usecols=wanted_columns)\n",
    "\n",
    "dataset_labeled['labels'] = dataset_labeled['labels'] + 1\n",
    "\n",
    "dataset_labeled = dataset_labeled.dropna()\n",
    "dataset_labeled = dataset_labeled.drop_duplicates(subset='text')\n",
    "\n",
    "dataset_labeled['labels'] = dataset_labeled['labels'].astype(int)"
   ]
  },
  {
   "cell_type": "code",
   "execution_count": 17,
   "metadata": {},
   "outputs": [
    {
     "data": {
      "application/vnd.jupyter.widget-view+json": {
       "model_id": "e754e58e43834fc78e1f45507e128979",
       "version_major": 2,
       "version_minor": 0
      },
      "text/plain": [
       "Map:   0%|          | 0/2025 [00:00<?, ? examples/s]"
      ]
     },
     "metadata": {},
     "output_type": "display_data"
    }
   ],
   "source": [
    "dataset  = tokenize_datasets(dataset_labeled,'sdadas/polish-roberta-base-v2')"
   ]
  },
  {
   "cell_type": "markdown",
   "metadata": {},
   "source": [
    "##### Training dataset is imbalanced what will be addressed in the later stage of the analysis. "
   ]
  },
  {
   "cell_type": "code",
   "execution_count": 18,
   "metadata": {},
   "outputs": [
    {
     "data": {
      "image/png": "[encoded data removed]",
      "text/plain": [
       "<Figure size 640x480 with 1 Axes>"
      ]
     },
     "metadata": {},
     "output_type": "display_data"
    }
   ],
   "source": [
    "count = dataset_labeled['labels'].value_counts()\n",
    "ax = count.plot(kind='bar')\n",
    "ax.set_xlabel('Klasy')\n",
    "ax.set_ylabel('Obserwacje')\n",
    "ax.set_xticklabels(['Neutralne', 'Negatywne', 'Pozytywne'])  \n",
    "plt.show()"
   ]
  },
  {
   "cell_type": "markdown",
   "metadata": {},
   "source": [
    "Max length will be set as 128. It covers more than 95% of observations"
   ]
  },
  {
   "cell_type": "code",
   "execution_count": 19,
   "metadata": {},
   "outputs": [],
   "source": [
    "%%capture --no-display\n",
    "tokenizer = AutoTokenizer.from_pretrained(\"allegro/herbert-base-cased\")\n",
    "tweet_lengths = [len(tokenizer.tokenize(tweet)) for tweet in dataset_labeled[\"text\"]]"
   ]
  },
  {
   "cell_type": "code",
   "execution_count": 20,
   "metadata": {},
   "outputs": [
    {
     "name": "stdout",
     "output_type": "stream",
     "text": [
      "95th percentile: 77.0\n",
      "Max tokens: 221\n"
     ]
    }
   ],
   "source": [
    "print(f\"95th percentile: {np.percentile(tweet_lengths, 95)}\")  \n",
    "print(f\"Max tokens: {max(tweet_lengths)}\")"
   ]
  },
  {
   "cell_type": "markdown",
   "metadata": {},
   "source": [
    "# Evaluating Text Preprocessing Strategies for BERT Classification\n"
   ]
  },
  {
   "cell_type": "markdown",
   "metadata": {},
   "source": [
    "To evaluate the impact of different text preprocessing techniques on BERT model performance using a systematic comparison approach.\n",
    "\n",
    "#### Methodology\n",
    "A baseline BERT model with default parameters was trained on each preprocessed version of the datasets. Due to class imbalance and the focus on positive/negative classification, the F1 score serves as the primary evaluation metric.\n",
    "\n",
    "#### Preprocessing Strategies\n",
    "The first part was training the model with different basic preprocessing strategies.\n",
    "Then we evaluated six distinct preprocessing approaches, incrementally adding complexity to assess the impact of each step:\n",
    "\n",
    "1. Raw text without any preprocessing\n",
    "2. Removal of non-textual characters\n",
    "3. Conversion of emojis to corresponding text + Removal of non-textual characters\n",
    "4. Removal of non-textual characters + Spelling correction\n",
    "5. Removal of non-textual characters + Spelling correction + Lemmatization\n",
    "6. Removal of non-textual characters + Spelling correction + Lemmatization + Stopword removal\n",
    "\n",
    "Model performance is evaluated using the F1 score, which provides a balanced measure of precision and recall, particularly important for our imbalanced dataset classification task."
   ]
  },
  {
   "cell_type": "code",
   "execution_count": 6,
   "metadata": {},
   "outputs": [],
   "source": [
    "#Removing http\n",
    "def preprocess_tweet_https(tweet):\n",
    "    tweet = re.sub(r'http\\S+|www\\S+|https\\S+', ' ', tweet, flags=re.MULTILINE)\n",
    "    return tweet\n",
    "\n",
    "#Removing hashtags\n",
    "def preprocess_tweet_hashtag(tweet):\n",
    "    tweet = re.sub(r'#\\w+', ' ', tweet)\n",
    "    return tweet\n",
    "\n",
    "#Removing mentions\n",
    "def preprocess_tweet_mention(tweet):\n",
    "    tweet = re.sub(r'@\\w+', ' ', tweet)\n",
    "    return tweet\n",
    "\n",
    "#Removing cashtag\n",
    "def preprocess_tweet_cashtag(tweet):\n",
    "    tweet = re.sub(r'\\$\\w+', ' ', tweet)\n",
    "    return tweet\n",
    "\n",
    "#Removing all charatcters except polish letter and ? !\n",
    "def preprocess_tweet_text(tweet):\n",
    "    tweet = re.sub(r'[^a-zA-ZĄąĆćĘęŁłŃńÓóŚśŹźŻż0-9\\s?!]', ' ', tweet)\n",
    "    return tweet\n",
    "\n",
    "#Removing repeated letters\n",
    "def preprocess_tweet_rep(tweet):\n",
    "    tweet = re.sub(r'(.)\\1+', r'\\1', tweet)\n",
    "    return tweet\n",
    "\n",
    "#Removing white spaces\n",
    "def preprocess_tweet_norm(tweet):\n",
    "    tweet = re.sub(r'\\s+', ' ', tweet).strip()\n",
    "    return tweet\n",
    "\n",
    "#Normalizing caps\n",
    "def preprocess_caps(tweet):\n",
    "    tweet = tweet.lower()\n",
    "    tweet = re.sub(r'(^|[.!?]\\s+)(\\w)', lambda m: m.group(1) + m.group(2).upper(), tweet)\n",
    "    return tweet\n",
    "\n",
    "def preprocess_tco(tweet):\n",
    "    return re.sub(r\"https?://t\\.co/\\S+\", \"\", tweet).strip()"
   ]
  },
  {
   "cell_type": "code",
   "execution_count": 7,
   "metadata": {},
   "outputs": [],
   "source": [
    "# Processing pipelines\n",
    "basic_processing_pipelines = {\n",
    "    'No_processing': [],\n",
    "    'No_processing_emoji': [\n",
    "        replace_emoji\n",
    "    ],\n",
    "    'No_processing_http': [\n",
    "        preprocess_tweet_https\n",
    "    ],\n",
    "    'No_processing_hashtag': [\n",
    "        preprocess_tweet_hashtag\n",
    "    ],\n",
    "    'No_processing_mention': [\n",
    "        preprocess_tweet_mention\n",
    "    ],\n",
    "    'No_processing_cashtag': [\n",
    "        preprocess_tweet_cashtag\n",
    "    ],\n",
    "    'No_processing__text': [\n",
    "        preprocess_tweet_text\n",
    "    ],\n",
    "    'No_processing__rep': [\n",
    "        preprocess_tweet_rep\n",
    "    ],\n",
    "    'No_processing_norm': [\n",
    "        preprocess_tweet_norm\n",
    "    ],\n",
    "    'No_processing_caps': [\n",
    "        preprocess_caps\n",
    "    ]\n",
    "}"
   ]
  },
  {
   "cell_type": "markdown",
   "metadata": {},
   "source": [
    "### Parameter setup"
   ]
  },
  {
   "cell_type": "code",
   "execution_count": 8,
   "metadata": {},
   "outputs": [],
   "source": [
    "tested_models = {}\n",
    "tested_models['ROBERT'] = \"sdadas/polish-roberta-base-v2\"\n",
    "tested_models['HERBERT']  = \"allegro/herbert-base-cased\"\n",
    "tested_models['POLBERT']  = \"dkleczek/bert-base-polish-cased-v1\"\n",
    "tested_models['MBERT'] = 'google-bert/bert-base-multilingual-cased'"
   ]
  },
  {
   "cell_type": "code",
   "execution_count": 25,
   "metadata": {},
   "outputs": [],
   "source": [
    "strat = {}\n",
    "strat['No_processing'] = basic_processing_pipelines['No_processing']"
   ]
  },
  {
   "cell_type": "code",
   "execution_count": 30,
   "metadata": {},
   "outputs": [
    {
     "name": "stdout",
     "output_type": "stream",
     "text": [
      "TrainingData/processed_data_No_processing.csv\n"
     ]
    },
    {
     "data": {
      "application/vnd.jupyter.widget-view+json": {
       "model_id": "9e4199f0626b4eb8b0770a4031466401",
       "version_major": 2,
       "version_minor": 0
      },
      "text/plain": [
       "Map:   0%|          | 0/1973 [00:00<?, ? examples/s]"
      ]
     },
     "metadata": {},
     "output_type": "display_data"
    }
   ],
   "source": [
    "datasets = transform_data(processing_pipelines = strat,dataset=dataset_labeled, csv_dir='TrainingData/')\n",
    "tokenize_datasets = tokenize_datasets(datasets['No_processing'],model_name='allegro/herbert-base-cased')"
   ]
  },
  {
   "cell_type": "code",
   "execution_count": 34,
   "metadata": {},
   "outputs": [],
   "source": [
    "model = 'allegro/herbert-base-cased'"
   ]
  },
  {
   "cell_type": "markdown",
   "metadata": {},
   "source": [
    "### Find best basic data preprocessing "
   ]
  },
  {
   "cell_type": "code",
   "execution_count": null,
   "metadata": {},
   "outputs": [],
   "source": [
    "os.path.exists(r'./preprocessing_comparison') or os.makedirs(r'./preprocessing_comparison')\n",
    "os.path.exists(r'./results') or os.makedirs(r'./results')\n",
    "\n",
    "datasets = transform_data(processing_pipelines = basic_processing_pipelines,dataset=dataset_labeled, csv_dir='TrainingData/')\n",
    "\n",
    "params={'train_seed': [12], 'model_seed': [12,53,42]}\n",
    "all_params = [dict(zip(params.keys(), values)) \n",
    "             for values in itertools.product(*params.values())]\n",
    "\n",
    "all_combinations = list(product(all_params, tested_models.values(), datasets.keys()))\n",
    "\n",
    "for params_set, model, dataset_name in tqdm.tqdm(all_combinations, desc=\"Grid Search\", total=len(all_combinations)):\n",
    "    try:\n",
    "        print(f\"Processing dataset: {dataset_name}\")\n",
    "        # Run cross-validation\n",
    "        print(f\"Running cross-validation with params: {params_set}\")\n",
    "        cv_results = cross_val_score(df=datasets[dataset_name], params = params_set, model_name=model, strategy_name=dataset_name)\n",
    "        # Save results\n",
    "        results_df = pd.DataFrame(cv_results, index=[0])\n",
    "        results_df['model_seed'] = params_set['model_seed']\n",
    "        results_df['train_seed'] = params_set['train_seed']\n",
    "        results_df['model'] = model\n",
    "        results_df['dataset'] = dataset_name\n",
    "        timestamp = datetime.now().strftime('%Y%m%d_%''H%M%S')\n",
    "        results_df.to_csv(rf\"./preprocessing_comparison/preprocessing_comparison_model_{model[:4]}_{params_set['train_seed']}_{timestamp}.csv\", index=False)\n",
    "        print(f\"\\nComparison saved to preprocessing_comparison_model_{model[:4]}.csv\")\n",
    "       \n",
    "    except Exception as e:\n",
    "        print(f\"Skipping failed params {params_set}: {str(e)}\")"
   ]
  },
  {
   "cell_type": "markdown",
   "metadata": {},
   "source": [
    "### Find best data preprocessing strategy"
   ]
  },
  {
   "cell_type": "code",
   "execution_count": null,
   "metadata": {},
   "outputs": [],
   "source": [
    "# Based on the preprocessing steps\n",
    "def preprocess_tweet(tweet):\n",
    "    tweet = preprocess_tweet_mention(tweet)\n",
    "    tweet = preprocess_tweet_https(tweet)\n",
    "    return tweet"
   ]
  },
  {
   "cell_type": "code",
   "execution_count": 10,
   "metadata": {},
   "outputs": [],
   "source": [
    "strategies_processing_pipelines = {\n",
    "    'Basic_processing': [\n",
    "        preprocess_tweet\n",
    "    ],\n",
    "    'Basic_processing_spelling': [\n",
    "        preprocess_tweet,\n",
    "        tool.correct\n",
    "    ],\n",
    "    'Basic_processing_spelling_lem': [\n",
    "        preprocess_tweet,\n",
    "        tool.correct,\n",
    "        lemmatize_text\n",
    "    ],\n",
    "    'Basic_processing_spelling_SP': [\n",
    "        preprocess_tweet,\n",
    "        tool.correct,\n",
    "        remove_stops\n",
    "    ],\n",
    "    'Basic_processing_spelling_lem_SP': [\n",
    "        preprocess_tweet,\n",
    "        tool.correct,\n",
    "        lemmatize_text,\n",
    "        remove_stops\n",
    "    ]\n",
    "}"
   ]
  },
  {
   "cell_type": "code",
   "execution_count": null,
   "metadata": {},
   "outputs": [],
   "source": [
    "datasets = transform_data(processing_pipelines = strategies_processing_pipelines, dataset=dataset_labeled, csv_dir='TrainingData/')\n",
    "os.path.exists(r'./strategy_comparison') or os.makedirs(r'./strategy_comparison')\n",
    "\n",
    "datasets = transform_data(processing_pipelines = strategies_processing_pipelines,dataset=dataset_labeled, csv_dir='TrainingData/')\n",
    "\n",
    "params={'train_seed': [12], 'model_seed': [12,53,42]}\n",
    "all_params = [dict(zip(params.keys(), values)) \n",
    "             for values in itertools.product(*params.values())]\n",
    "\n",
    "all_combinations = list(product(all_params, tested_models.values(), datasets.keys()))\n",
    "\n",
    "for params_set, model, dataset_name in tqdm.tqdm(all_combinations, desc=\"Grid Search\", total=len(all_combinations)):\n",
    "    try:\n",
    "        print(f\"Processing dataset: {dataset_name}\")\n",
    "        # Run cross-validation\n",
    "        print(f\"Running cross-validation with params: {params_set}\")\n",
    "        cv_results = cross_val_score(df=datasets[dataset_name], params = params_set, model_name=model, strategy_name=dataset_name)\n",
    "        # Save results  \n",
    "        results_df = pd.DataFrame(cv_results, index=[0])\n",
    "        results_df['model_seed'] = params_set['model_seed']\n",
    "        results_df['train_seed'] = params_set['train_seed']\n",
    "        results_df['model'] = model\n",
    "        results_df['dataset'] = dataset_name\n",
    "        timestamp = datetime.now().strftime('%Y%m%d_%' \\\n",
    "        'H%M%S')\n",
    "        results_df.to_csv(rf\"./strategy_comparison/preprocessing_comparison_model_{model[:4]}_{params['train_seed']}_{timestamp}.csv\", index=False)\n",
    "        print(f\"\\nComparison saved to preprocessing_comparison_model_{model[:4]}.csv\")\n",
    "       \n",
    "    except Exception as e:\n",
    "        print(f\"Skipping failed params {params_set}: {str(e)}\")"
   ]
  },
  {
   "cell_type": "markdown",
   "metadata": {},
   "source": [
    "### Grid search with best preprocessing strategy\n"
   ]
  },
  {
   "cell_type": "code",
   "execution_count": 5,
   "metadata": {},
   "outputs": [],
   "source": [
    "processing_pipelines = {}\n",
    "processing_pipelines['Basic_processing'] = strategies_processing_pipelines['Basic_processing']"
   ]
  },
  {
   "cell_type": "code",
   "execution_count": null,
   "metadata": {},
   "outputs": [],
   "source": [
    "N_SAMPLES = 150\n",
    "dataset = transform_data(processing_pipelines = processing_pipelines,dataset=dataset_labeled, csv_dir='TrainingData/')\n",
    "dataset_name = list(dataset.keys())[0]\n",
    "os.path.exists(r'./grid_search_comparison') or os.makedirs(r'./grid_search_comparison')\n",
    "\n",
    "model = tested_models['ROBERT']\n",
    "param_grid = {\n",
    "    \"learning_rate\": [1e-5,1.5e-5, 2e-5],     \n",
    "    \"batch_size\": [4,8, 16],               \n",
    "    \"epochs\": [3,4,5],                    \n",
    "    \"weight_decay\": [0.05,0.01, 0.001],       \n",
    "    \"class_weight_floor\": [0.5, 1.0],\n",
    "    \"train_seed\": [42],  \n",
    "    \"model_seed\": [42, 53, 12]\n",
    "}\n",
    "all_params = [dict(zip(param_grid.keys(), values)) \n",
    "             for values in itertools.product(*param_grid.values())]\n",
    "\n",
    "sampled_params = random.sample(all_params, k=min(N_SAMPLES, len(all_params)))\n",
    "\n",
    "for params_set in tqdm.tqdm(sampled_params, desc=\"Grid Search\", total=len(sampled_params)):\n",
    "    try:\n",
    "        \n",
    "        print(f\"Processing dataset: {dataset_name}\")\n",
    "        # Run cross-validation\n",
    "        print(f\"Running cross-validation with params: {params_set}\")\n",
    "        cv_results = cross_val_score(df=dataset['Basic_processing'], params = params_set, model_name=model)\n",
    "        # Save results  \n",
    "        results_df = pd.DataFrame(cv_results, index=[0])\n",
    "        results_df['model_seed'] = params_set['model_seed']\n",
    "        results_df['train_seed'] = params_set['train_seed']\n",
    "        results_df['model'] = model\n",
    "        results_df['dataset'] = dataset_name\n",
    "        timestamp = datetime.now().strftime('%Y%m%d_%H%M%S')\n",
    "\n",
    "        results_df.to_csv(rf\"./grid_search_comparison/preprocessing_comparison_model_{model[:4]}_{params_set['model_seed']}_{timestamp}.csv\", index=False)\n",
    "        print(f\"\\nComparison saved to preprocessing_comparison_model_{model[:4]}.csv\")\n",
    "       \n",
    "    except Exception as e:\n",
    "        print(f\"Skipping failed params {params_set}: {str(e)}\")"
   ]
  },
  {
   "cell_type": "markdown",
   "metadata": {},
   "source": [
    "# Final model training"
   ]
  },
  {
   "cell_type": "code",
   "execution_count": 21,
   "metadata": {},
   "outputs": [
    {
     "name": "stdout",
     "output_type": "stream",
     "text": [
      "TrainingData/processed_data_Basic_processing.csv\n"
     ]
    },
    {
     "data": {
      "application/vnd.jupyter.widget-view+json": {
       "model_id": "228dfea7241248d692a8e97ba2fe1a14",
       "version_major": 2,
       "version_minor": 0
      },
      "text/plain": [
       "Map:   0%|          | 0/1620 [00:00<?, ? examples/s]"
      ]
     },
     "metadata": {},
     "output_type": "display_data"
    },
    {
     "data": {
      "application/vnd.jupyter.widget-view+json": {
       "model_id": "345005f444b045b8b85411e5f029ae99",
       "version_major": 2,
       "version_minor": 0
      },
      "text/plain": [
       "Map:   0%|          | 0/405 [00:00<?, ? examples/s]"
      ]
     },
     "metadata": {},
     "output_type": "display_data"
    },
    {
     "name": "stdout",
     "output_type": "stream",
     "text": [
      "Processing dataset: Basic_processing\n"
     ]
    },
    {
     "name": "stderr",
     "output_type": "stream",
     "text": [
      "Some weights of RobertaForSequenceClassification were not initialized from the model checkpoint at sdadas/polish-roberta-base-v2 and are newly initialized: ['classifier.dense.bias', 'classifier.dense.weight', 'classifier.out_proj.bias', 'classifier.out_proj.weight']\n",
      "You should probably TRAIN this model on a down-stream task to be able to use it for predictions and inference.\n",
      "e:\\Project_clean\\PolishTweetsClassification\\.venv\\Lib\\site-packages\\transformers\\training_args.py:1575: FutureWarning: `evaluation_strategy` is deprecated and will be removed in version 4.46 of 🤗 Transformers. Use `eval_strategy` instead\n",
      "  warnings.warn(\n"
     ]
    },
    {
     "data": {
      "text/html": [
       "\n",
       "    <div>\n",
       "      \n",
       "      <progress value='808' max='808' style='width:300px; height:20px; vertical-align: middle;'></progress>\n",
       "      [808/808 30:07, Epoch 3/4]\n",
       "    </div>\n",
       "    <table border=\"1\" class=\"dataframe\">\n",
       "  <thead>\n",
       " <tr style=\"text-align: left;\">\n",
       "      <th>Epoch</th>\n",
       "      <th>Training Loss</th>\n",
       "      <th>Validation Loss</th>\n",
       "      <th>Accuracy</th>\n",
       "      <th>F1 Macro</th>\n",
       "      <th>F1 Weighted</th>\n",
       "      <th>F1 0</th>\n",
       "      <th>F1 1</th>\n",
       "      <th>F1 2</th>\n",
       "    </tr>\n",
       "  </thead>\n",
       "  <tbody>\n",
       "    <tr>\n",
       "      <td>1</td>\n",
       "      <td>0.922100</td>\n",
       "      <td>0.894115</td>\n",
       "      <td>0.659259</td>\n",
       "      <td>0.596269</td>\n",
       "      <td>0.657580</td>\n",
       "      <td>0.616034</td>\n",
       "      <td>0.737991</td>\n",
       "      <td>0.434783</td>\n",
       "    </tr>\n",
       "    <tr>\n",
       "      <td>2</td>\n",
       "      <td>0.783200</td>\n",
       "      <td>0.861295</td>\n",
       "      <td>0.718519</td>\n",
       "      <td>0.667966</td>\n",
       "      <td>0.720573</td>\n",
       "      <td>0.619355</td>\n",
       "      <td>0.798337</td>\n",
       "      <td>0.586207</td>\n",
       "    </tr>\n",
       "    <tr>\n",
       "      <td>3</td>\n",
       "      <td>0.553900</td>\n",
       "      <td>0.894779</td>\n",
       "      <td>0.735802</td>\n",
       "      <td>0.694064</td>\n",
       "      <td>0.737606</td>\n",
       "      <td>0.687500</td>\n",
       "      <td>0.797468</td>\n",
       "      <td>0.597222</td>\n",
       "    </tr>\n",
       "  </tbody>\n",
       "</table><p>"
      ],
      "text/plain": [
       "<IPython.core.display.HTML object>"
      ]
     },
     "metadata": {},
     "output_type": "display_data"
    },
    {
     "data": {
      "text/html": [
       "\n",
       "    <div>\n",
       "      \n",
       "      <progress value='13' max='13' style='width:300px; height:20px; vertical-align: middle;'></progress>\n",
       "      [13/13 00:31]\n",
       "    </div>\n",
       "    "
      ],
      "text/plain": [
       "<IPython.core.display.HTML object>"
      ]
     },
     "metadata": {},
     "output_type": "display_data"
    }
   ],
   "source": [
    "params= {\n",
    "    \"learning_rate\": 1.5e-5,     \n",
    "    \"batch_size\": 4,               \n",
    "    \"epochs\": 4,                    \n",
    "    \"weight_decay\": 0.01,       \n",
    "    \"class_weight_floor\": 1,\n",
    "    \"train_seed\": 42,  \n",
    "    \"model_seed\": 42\n",
    "}\n",
    "\n",
    "\n",
    "dataset_name = 'Basic_processing'\n",
    "model_name = 'sdadas/polish-roberta-base-v2'\n",
    "dataset = transform_data(processing_pipelines = {'Basic_processing': strategies_processing_pipelines['Basic_processing']}, dataset=dataset_labeled, csv_dir='TrainingData/')\n",
    "dataset = dataset['Basic_processing']\n",
    "train_df, test_df = train_test_split(dataset, test_size=0.2, random_state=params[\"train_seed\"], stratify=dataset['labels'])\n",
    "train_df_tokenized = tokenize_datasets(df = train_df, model_name=model_name, max_length=128, column='text')\n",
    "val_df_tokenized = tokenize_datasets(df = test_df, model_name=model_name, max_length=128, column='text')\n",
    "\n",
    "dataset_dict = DatasetDict({\n",
    "        'train': train_df_tokenized,\n",
    "        'test': val_df_tokenized\n",
    "    })\n",
    "try:\n",
    "    \n",
    "    print(f\"Processing dataset: {dataset_name}\")\n",
    "    trainer, eval = train_evaluate(\n",
    "        params=params, \n",
    "        tokenized_dataset=dataset_dict,\n",
    "        model_name=model_name, \n",
    "    \n",
    "    )\n",
    "   \n",
    "except Exception as e:\n",
    "    print(f\"Skipping failed params {params}: {str(e)}\")"
   ]
  },
  {
   "cell_type": "code",
   "execution_count": 22,
   "metadata": {},
   "outputs": [],
   "source": [
    "\n",
    "def train_evaluate(params, tokenized_dataset, model_name):\n",
    "    # Get and validate labels\n",
    "    train_labels = np.array(tokenized_dataset[\"train\"][\"labels\"])\n",
    "    \n",
    "    # Class weight calculation with floor\n",
    "    class_weights = get_class_weights(train_labels, floor=params.get(\"class_weight_floor\", 1.0))\n",
    "\n",
    "    # Model initialization\n",
    "    model = AutoModelForSequenceClassification.from_pretrained(\n",
    "        model_name, \n",
    "        num_labels=3\n",
    "    )\n",
    "   \n",
    "    # Training arguments with imbalance optimizations\n",
    "    args = TrainingArguments(\n",
    "        output_dir=f\"./trained/{hash(str(params))}\",\n",
    "        num_train_epochs=params[\"epochs\"],\n",
    "        per_device_train_batch_size=params[\"batch_size\"],\n",
    "        per_device_eval_batch_size=32,\n",
    "        learning_rate=params[\"learning_rate\"],\n",
    "        weight_decay=params[\"weight_decay\"],\n",
    "        warmup_ratio=0.1,  \n",
    "        evaluation_strategy=\"epoch\",\n",
    "        save_strategy=\"epoch\",\n",
    "        load_best_model_at_end=False,\n",
    "        metric_for_best_model=\"f1_weighted\",\n",
    "        greater_is_better=True,\n",
    "        seed=params['model_seed'],\n",
    "        optim=\"adamw_torch\",\n",
    "        fp16=torch.cuda.is_available(),\n",
    "        gradient_accumulation_steps=params.get(\"grad_accum_steps\", 2),\n",
    "        report_to=\"none\",\n",
    "        logging_steps=50,\n",
    "        lr_scheduler_type=\"cosine\",\n",
    "         \n",
    "    )\n",
    "\n",
    "    # Initialize trainer\n",
    "    trainer = WeightedTrainer(\n",
    "        class_weights=class_weights,\n",
    "        model=model,\n",
    "        args=args,\n",
    "        train_dataset=tokenized_dataset[\"train\"],\n",
    "        eval_dataset=tokenized_dataset[\"test\"],\n",
    "        compute_metrics=compute_metrics,\n",
    "        callbacks=[MasterCSVLoggerCallback(run_id=f'{model_name}_{\"_\".join(map(str, params.values()))}')], \n",
    "    )\n",
    "\n",
    "    # Train with validation checks\n",
    "    try:\n",
    "        trainer.train()\n",
    "        eval_results = trainer.evaluate()\n",
    "        return trainer, eval_results\n",
    "    except Exception as e:\n",
    "        print(f\"Training failed: {str(e)}\")\n",
    "        return None"
   ]
  },
  {
   "cell_type": "code",
   "execution_count": null,
   "metadata": {},
   "outputs": [],
   "source": [
    "params= {\n",
    "    \"learning_rate\": 1.5e-5,     \n",
    "    \"batch_size\": 4,               \n",
    "    \"epochs\": 5,                    \n",
    "    \"weight_decay\": 0.01,       \n",
    "    \"class_weight_floor\": 1,\n",
    "    \"train_seed\": 42,  \n",
    "    \"model_seed\": 42\n",
    "}\n",
    "\n",
    "\n",
    "dataset_name = 'Basic_processing'\n",
    "model_name = 'sdadas/polish-roberta-base-v2'\n",
    "dataset = transform_data(processing_pipelines = {'Basic_processing': strategies_processing_pipelines['Basic_processing']}, dataset=dataset_labeled, csv_dir='TrainingData/')\n",
    "dataset = dataset['Basic_processing']\n",
    "train_df, test_df = train_test_split(dataset, test_size=0.2, random_state=params[\"train_seed\"], stratify=dataset['labels'])\n",
    "train_df_tokenized = tokenize_datasets(df = train_df, model_name=model_name, max_length=128, column='text')\n",
    "val_df_tokenized = tokenize_datasets(df = test_df, model_name=model_name, max_length=128, column='text')\n",
    "\n",
    "dataset_dict = DatasetDict({\n",
    "        'train': train_df_tokenized,\n",
    "        'test': val_df_tokenized\n",
    "    })\n",
    "try:\n",
    "    \n",
    "    print(f\"Processing dataset: {dataset_name}\")\n",
    "    trainer, eval = train_evaluate(\n",
    "        params=params, \n",
    "        tokenized_dataset=dataset_dict,\n",
    "        model_name=model_name, \n",
    "    \n",
    "    )\n",
    "   \n",
    "except Exception as e:\n",
    "    print(f\"Skipping failed params {params}: {str(e)}\")"
   ]
  },
  {
   "cell_type": "code",
   "execution_count": null,
   "metadata": {},
   "outputs": [],
   "source": [
    "params= {\n",
    "    \"learning_rate\": 1.5e-5,     \n",
    "    \"batch_size\": 4,               \n",
    "    \"epochs\": 5,                    \n",
    "    \"weight_decay\": 0.01,       \n",
    "    \"class_weight_floor\": 1.5,\n",
    "    \"train_seed\": 42,  \n",
    "    \"model_seed\": 42\n",
    "}\n",
    "\n",
    "\n",
    "dataset_name = 'Basic_processing'\n",
    "model_name = 'sdadas/polish-roberta-base-v2'\n",
    "dataset = transform_data(processing_pipelines = {'Basic_processing': strategies_processing_pipelines['Basic_processing']}, dataset=dataset_labeled, csv_dir='TrainingData/')\n",
    "dataset = dataset['Basic_processing']\n",
    "train_df, test_df = train_test_split(dataset, test_size=0.2, random_state=params[\"train_seed\"], stratify=dataset['labels'])\n",
    "train_df_tokenized = tokenize_datasets(df = train_df, model_name=model_name, max_length=128, column='text')\n",
    "val_df_tokenized = tokenize_datasets(df = test_df, model_name=model_name, max_length=128, column='text')\n",
    "\n",
    "dataset_dict = DatasetDict({\n",
    "        'train': train_df_tokenized,\n",
    "        'test': val_df_tokenized\n",
    "    })\n",
    "try:\n",
    "    \n",
    "    print(f\"Processing dataset: {dataset_name}\")\n",
    "    trainer, eval = train_evaluate(\n",
    "        params=params, \n",
    "        tokenized_dataset=dataset_dict,\n",
    "        model_name=model_name, \n",
    "    \n",
    "    )\n",
    "   \n",
    "except Exception as e:\n",
    "    print(f\"Skipping failed params {params}: {str(e)}\")"
   ]
  },
  {
   "cell_type": "code",
   "execution_count": null,
   "metadata": {},
   "outputs": [],
   "source": [
    "params= {\n",
    "    \"learning_rate\": 1.5e-5,     \n",
    "    \"batch_size\": 4,               \n",
    "    \"epochs\": 4,                    \n",
    "    \"weight_decay\": 0.01,       \n",
    "    \"class_weight_floor\": 1.5,\n",
    "    \"train_seed\": 42,  \n",
    "    \"model_seed\": 42\n",
    "}\n",
    "\n",
    "\n",
    "dataset_name = 'Basic_processing'\n",
    "model_name = 'sdadas/polish-roberta-base-v2'\n",
    "dataset = transform_data(processing_pipelines = {'Basic_processing': strategies_processing_pipelines['Basic_processing']}, dataset=dataset_labeled, csv_dir='TrainingData/')\n",
    "dataset = dataset['Basic_processing']\n",
    "train_df, test_df = train_test_split(dataset, test_size=0.2, random_state=params[\"train_seed\"], stratify=dataset['labels'])\n",
    "train_df_tokenized = tokenize_datasets(df = train_df, model_name=model_name, max_length=128, column='text')\n",
    "val_df_tokenized = tokenize_datasets(df = test_df, model_name=model_name, max_length=128, column='text')\n",
    "\n",
    "dataset_dict = DatasetDict({\n",
    "        'train': train_df_tokenized,\n",
    "        'test': val_df_tokenized\n",
    "    })\n",
    "try:\n",
    "    \n",
    "    print(f\"Processing dataset: {dataset_name}\")\n",
    "    trainer, eval = train_evaluate(\n",
    "        params=params, \n",
    "        tokenized_dataset=dataset_dict,\n",
    "        model_name=model_name, \n",
    "    \n",
    "    )\n",
    "   \n",
    "except Exception as e:\n",
    "    print(f\"Skipping failed params {params}: {str(e)}\")"
   ]
  }
 ],
 "metadata": {
  "kernelspec": {
   "display_name": ".venv",
   "language": "python",
   "name": "python3"
  },
  "language_info": {
   "codemirror_mode": {
    "name": "ipython",
    "version": 3
   },
   "file_extension": ".py",
   "mimetype": "text/x-python",
   "name": "python",
   "nbconvert_exporter": "python",
   "pygments_lexer": "ipython3",
   "version": "3.11.9"
  }
 },
 "nbformat": 4,
 "nbformat_minor": 2
}
